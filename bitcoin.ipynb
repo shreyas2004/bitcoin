{
 "cells": [
  {
   "cell_type": "code",
   "execution_count": 1,
   "metadata": {},
   "outputs": [],
   "source": [
    "import yfinance as yf"
   ]
  },
  {
   "cell_type": "code",
   "execution_count": null,
   "metadata": {},
   "outputs": [],
   "source": [
    "import numpy as np, pandas as pd, matplotlib.pyplot as plt\n",
    "import math\n",
    "from statsmodels.tsa.arima_model import ARIMA\n",
    "from sklearn.metrics import mean_absolute_error, median_absolute_error"
   ]
  },
  {
   "cell_type": "code",
   "execution_count": 2,
   "metadata": {},
   "outputs": [
    {
     "name": "stderr",
     "output_type": "stream",
     "text": [
      "[*********************100%***********************]  1 of 1 completed\n"
     ]
    }
   ],
   "source": [
    "df = yf.download('BTC-USD')"
   ]
  },
  {
   "cell_type": "code",
   "execution_count": 3,
   "metadata": {},
   "outputs": [
    {
     "data": {
      "text/html": [
       "<div>\n",
       "<style scoped>\n",
       "    .dataframe tbody tr th:only-of-type {\n",
       "        vertical-align: middle;\n",
       "    }\n",
       "\n",
       "    .dataframe tbody tr th {\n",
       "        vertical-align: top;\n",
       "    }\n",
       "\n",
       "    .dataframe thead tr th {\n",
       "        text-align: left;\n",
       "    }\n",
       "\n",
       "    .dataframe thead tr:last-of-type th {\n",
       "        text-align: right;\n",
       "    }\n",
       "</style>\n",
       "<table border=\"1\" class=\"dataframe\">\n",
       "  <thead>\n",
       "    <tr>\n",
       "      <th>Price</th>\n",
       "      <th>Adj Close</th>\n",
       "      <th>Close</th>\n",
       "      <th>High</th>\n",
       "      <th>Low</th>\n",
       "      <th>Open</th>\n",
       "      <th>Volume</th>\n",
       "    </tr>\n",
       "    <tr>\n",
       "      <th>Ticker</th>\n",
       "      <th>BTC-USD</th>\n",
       "      <th>BTC-USD</th>\n",
       "      <th>BTC-USD</th>\n",
       "      <th>BTC-USD</th>\n",
       "      <th>BTC-USD</th>\n",
       "      <th>BTC-USD</th>\n",
       "    </tr>\n",
       "    <tr>\n",
       "      <th>Date</th>\n",
       "      <th></th>\n",
       "      <th></th>\n",
       "      <th></th>\n",
       "      <th></th>\n",
       "      <th></th>\n",
       "      <th></th>\n",
       "    </tr>\n",
       "  </thead>\n",
       "  <tbody>\n",
       "    <tr>\n",
       "      <th>2014-09-17</th>\n",
       "      <td>457.334015</td>\n",
       "      <td>457.334015</td>\n",
       "      <td>468.174011</td>\n",
       "      <td>452.421997</td>\n",
       "      <td>465.864014</td>\n",
       "      <td>21056800</td>\n",
       "    </tr>\n",
       "    <tr>\n",
       "      <th>2014-09-18</th>\n",
       "      <td>424.440002</td>\n",
       "      <td>424.440002</td>\n",
       "      <td>456.859985</td>\n",
       "      <td>413.104004</td>\n",
       "      <td>456.859985</td>\n",
       "      <td>34483200</td>\n",
       "    </tr>\n",
       "    <tr>\n",
       "      <th>2014-09-19</th>\n",
       "      <td>394.795990</td>\n",
       "      <td>394.795990</td>\n",
       "      <td>427.834991</td>\n",
       "      <td>384.532013</td>\n",
       "      <td>424.102997</td>\n",
       "      <td>37919700</td>\n",
       "    </tr>\n",
       "    <tr>\n",
       "      <th>2014-09-20</th>\n",
       "      <td>408.903992</td>\n",
       "      <td>408.903992</td>\n",
       "      <td>423.295990</td>\n",
       "      <td>389.882996</td>\n",
       "      <td>394.673004</td>\n",
       "      <td>36863600</td>\n",
       "    </tr>\n",
       "    <tr>\n",
       "      <th>2014-09-21</th>\n",
       "      <td>398.821014</td>\n",
       "      <td>398.821014</td>\n",
       "      <td>412.425995</td>\n",
       "      <td>393.181000</td>\n",
       "      <td>408.084991</td>\n",
       "      <td>26580100</td>\n",
       "    </tr>\n",
       "    <tr>\n",
       "      <th>...</th>\n",
       "      <td>...</td>\n",
       "      <td>...</td>\n",
       "      <td>...</td>\n",
       "      <td>...</td>\n",
       "      <td>...</td>\n",
       "      <td>...</td>\n",
       "    </tr>\n",
       "    <tr>\n",
       "      <th>2024-12-12</th>\n",
       "      <td>100043.000000</td>\n",
       "      <td>100043.000000</td>\n",
       "      <td>102524.914062</td>\n",
       "      <td>99339.953125</td>\n",
       "      <td>101167.804688</td>\n",
       "      <td>72073983533</td>\n",
       "    </tr>\n",
       "    <tr>\n",
       "      <th>2024-12-13</th>\n",
       "      <td>101459.257812</td>\n",
       "      <td>101459.257812</td>\n",
       "      <td>101888.804688</td>\n",
       "      <td>99233.281250</td>\n",
       "      <td>100046.648438</td>\n",
       "      <td>56894751583</td>\n",
       "    </tr>\n",
       "    <tr>\n",
       "      <th>2024-12-14</th>\n",
       "      <td>101372.968750</td>\n",
       "      <td>101372.968750</td>\n",
       "      <td>102618.882812</td>\n",
       "      <td>100634.054688</td>\n",
       "      <td>101451.437500</td>\n",
       "      <td>40422968793</td>\n",
       "    </tr>\n",
       "    <tr>\n",
       "      <th>2024-12-15</th>\n",
       "      <td>104298.695312</td>\n",
       "      <td>104298.695312</td>\n",
       "      <td>105047.539062</td>\n",
       "      <td>101227.031250</td>\n",
       "      <td>101373.531250</td>\n",
       "      <td>51145914137</td>\n",
       "    </tr>\n",
       "    <tr>\n",
       "      <th>2024-12-16</th>\n",
       "      <td>105615.054688</td>\n",
       "      <td>105615.054688</td>\n",
       "      <td>106449.882812</td>\n",
       "      <td>103377.945312</td>\n",
       "      <td>104447.664062</td>\n",
       "      <td>69988982784</td>\n",
       "    </tr>\n",
       "  </tbody>\n",
       "</table>\n",
       "<p>3744 rows × 6 columns</p>\n",
       "</div>"
      ],
      "text/plain": [
       "Price           Adj Close          Close           High            Low  \\\n",
       "Ticker            BTC-USD        BTC-USD        BTC-USD        BTC-USD   \n",
       "Date                                                                     \n",
       "2014-09-17     457.334015     457.334015     468.174011     452.421997   \n",
       "2014-09-18     424.440002     424.440002     456.859985     413.104004   \n",
       "2014-09-19     394.795990     394.795990     427.834991     384.532013   \n",
       "2014-09-20     408.903992     408.903992     423.295990     389.882996   \n",
       "2014-09-21     398.821014     398.821014     412.425995     393.181000   \n",
       "...                   ...            ...            ...            ...   \n",
       "2024-12-12  100043.000000  100043.000000  102524.914062   99339.953125   \n",
       "2024-12-13  101459.257812  101459.257812  101888.804688   99233.281250   \n",
       "2024-12-14  101372.968750  101372.968750  102618.882812  100634.054688   \n",
       "2024-12-15  104298.695312  104298.695312  105047.539062  101227.031250   \n",
       "2024-12-16  105615.054688  105615.054688  106449.882812  103377.945312   \n",
       "\n",
       "Price                Open       Volume  \n",
       "Ticker            BTC-USD      BTC-USD  \n",
       "Date                                    \n",
       "2014-09-17     465.864014     21056800  \n",
       "2014-09-18     456.859985     34483200  \n",
       "2014-09-19     424.102997     37919700  \n",
       "2014-09-20     394.673004     36863600  \n",
       "2014-09-21     408.084991     26580100  \n",
       "...                   ...          ...  \n",
       "2024-12-12  101167.804688  72073983533  \n",
       "2024-12-13  100046.648438  56894751583  \n",
       "2024-12-14  101451.437500  40422968793  \n",
       "2024-12-15  101373.531250  51145914137  \n",
       "2024-12-16  104447.664062  69988982784  \n",
       "\n",
       "[3744 rows x 6 columns]"
      ]
     },
     "execution_count": 3,
     "metadata": {},
     "output_type": "execute_result"
    }
   ],
   "source": [
    "df"
   ]
  },
  {
   "cell_type": "code",
   "execution_count": 9,
   "metadata": {},
   "outputs": [
    {
     "name": "stdout",
     "output_type": "stream",
     "text": [
      "MultiIndex([('Adj Close', 'BTC-USD'),\n",
      "            (    'Close', 'BTC-USD'),\n",
      "            (     'High', 'BTC-USD'),\n",
      "            (      'Low', 'BTC-USD'),\n",
      "            (     'Open', 'BTC-USD'),\n",
      "            (   'Volume', 'BTC-USD')],\n",
      "           names=['Price', 'Ticker'])\n"
     ]
    }
   ],
   "source": [
    "print(df.columns)"
   ]
  },
  {
   "cell_type": "code",
   "execution_count": 12,
   "metadata": {},
   "outputs": [
    {
     "data": {
      "text/plain": [
       "[<matplotlib.lines.Line2D at 0x11fe138de50>]"
      ]
     },
     "execution_count": 12,
     "metadata": {},
     "output_type": "execute_result"
    },
    {
     "data": {
      "image/png": "[encoded data removed]",
      "text/plain": [
       "<Figure size 640x480 with 1 Axes>"
      ]
     },
     "metadata": {},
     "output_type": "display_data"
    }
   ],
   "source": [
    "plt.plot(df.index, df[('Adj Close', 'BTC-USD')])"
   ]
  },
  {
   "cell_type": "code",
   "execution_count": null,
   "metadata": {},
   "outputs": [],
   "source": []
  }
 ],
 "metadata": {
  "kernelspec": {
   "display_name": "Python 3",
   "language": "python",
   "name": "python3"
  },
  "language_info": {
   "codemirror_mode": {
    "name": "ipython",
    "version": 3
   },
   "file_extension": ".py",
   "mimetype": "text/x-python",
   "name": "python",
   "nbconvert_exporter": "python",
   "pygments_lexer": "ipython3",
   "version": "3.13.1"
  }
 },
 "nbformat": 4,
 "nbformat_minor": 2
}
